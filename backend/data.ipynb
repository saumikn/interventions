{
 "cells": [
  {
   "cell_type": "code",
   "execution_count": 51,
   "metadata": {},
   "outputs": [],
   "source": [
    "from maia_lib import GamesFile\n",
    "import pickle\n",
    "import chess\n",
    "import chess.pgn\n",
    "from io import StringIO\n",
    "import random\n",
    "import json"
   ]
  },
  {
   "cell_type": "code",
   "execution_count": 7,
   "metadata": {},
   "outputs": [],
   "source": [
    "path = '/Users/saumik/Documents/research/chess/data/lichess_db_standard_rated_2017-04.pgn.zst'"
   ]
  },
  {
   "cell_type": "code",
   "execution_count": 53,
   "metadata": {},
   "outputs": [],
   "source": [
    "move_list = []\n",
    "gf = GamesFile(path)\n",
    "for i, game in enumerate(gf):\n",
    "    if i >= 1000: break\n",
    "    game = chess.pgn.read_game(StringIO(game[1]))\n",
    "    moves = [move.uci() for move in game.mainline()]\n",
    "    if len(moves) <= 10: continue\n",
    "    move_list.append(moves[:random.randrange(10,len(moves))])\n",
    "\n",
    "data = [{'fen': chess.STARTING_FEN, 'moves':mlist} for mlist in move_list]\n",
    "data_path = '../frontend/static/data.json'\n",
    "with open(data_path, \"w\") as f:\n",
    "    json.dump(data, f)\n"
   ]
  },
  {
   "cell_type": "code",
   "execution_count": 49,
   "metadata": {},
   "outputs": [
    {
     "data": {
      "text/plain": [
       "90"
      ]
     },
     "execution_count": 49,
     "metadata": {},
     "output_type": "execute_result"
    }
   ],
   "source": [
    "len(move_list)"
   ]
  },
  {
   "cell_type": "code",
   "execution_count": 42,
   "metadata": {},
   "outputs": [
    {
     "data": {
      "text/plain": [
       "['e2e4',\n",
       " 'e7e5',\n",
       " 'f2f4',\n",
       " 'e5f4',\n",
       " 'g1f3',\n",
       " 'g8f6',\n",
       " 'e4e5',\n",
       " 'f6h5',\n",
       " 'f1c4',\n",
       " 'g7g5',\n",
       " 'h2h4',\n",
       " 'h5g3',\n",
       " 'f3g5',\n",
       " 'g3h1',\n",
       " 'c4f7',\n",
       " 'e8e7',\n",
       " 'b1c3',\n",
       " 'c7c6',\n",
       " 'd2d4',\n",
       " 'h7h6',\n",
       " 'd1h5',\n",
       " 'f8g7',\n",
       " 'g5e4',\n",
       " 'd8f8',\n",
       " 'e4d6',\n",
       " 'b8a6',\n",
       " 'c1f4',\n",
       " 'a6b4',\n",
       " 'e1d2',\n",
       " 'h1f2',\n",
       " 'a1f1',\n",
       " 'h8h7',\n",
       " 'f1f2']"
      ]
     },
     "execution_count": 42,
     "metadata": {},
     "output_type": "execute_result"
    }
   ],
   "source": [
    "game = chess.pgn.read_game(StringIO(move[1]))\n",
    "moves = [move.uci() for move in game.mainline()]\n",
    "moves[:random.randrange(len(moves))]"
   ]
  },
  {
   "cell_type": "code",
   "execution_count": null,
   "metadata": {},
   "outputs": [],
   "source": []
  },
  {
   "cell_type": "code",
   "execution_count": 20,
   "metadata": {},
   "outputs": [
    {
     "data": {
      "text/plain": [
       "[Move.from_uci('c6d8'),\n",
       " Move.from_uci('a3e7'),\n",
       " Move.from_uci('d7e7'),\n",
       " Move.from_uci('a2a4'),\n",
       " Move.from_uci('b7c6'),\n",
       " Move.from_uci('a4a5'),\n",
       " Move.from_uci('e8f7')]"
      ]
     },
     "execution_count": 20,
     "metadata": {},
     "output_type": "execute_result"
    }
   ],
   "source": [
    "boards[6].move_stack"
   ]
  },
  {
   "cell_type": "code",
   "execution_count": 11,
   "metadata": {},
   "outputs": [],
   "source": [
    "with open('data.pickle', 'wb') as f:\n",
    "    pickle.dump(boards, f)"
   ]
  },
  {
   "cell_type": "code",
   "execution_count": 1,
   "metadata": {},
   "outputs": [],
   "source": [
    "import pickle\n",
    "with open('data.pickle', 'rb') as f:\n",
    "    boards = pickle.load(f)"
   ]
  },
  {
   "cell_type": "code",
   "execution_count": 5,
   "metadata": {},
   "outputs": [
    {
     "data": {
      "text/plain": [
       "[]"
      ]
     },
     "execution_count": 5,
     "metadata": {},
     "output_type": "execute_result"
    }
   ],
   "source": [
    "boards[0].move_stack"
   ]
  },
  {
   "cell_type": "code",
   "execution_count": null,
   "metadata": {},
   "outputs": [],
   "source": []
  }
 ],
 "metadata": {
  "kernelspec": {
   "display_name": "interventions",
   "language": "python",
   "name": "python3"
  },
  "language_info": {
   "codemirror_mode": {
    "name": "ipython",
    "version": 3
   },
   "file_extension": ".py",
   "mimetype": "text/x-python",
   "name": "python",
   "nbconvert_exporter": "python",
   "pygments_lexer": "ipython3",
   "version": "3.11.3"
  },
  "orig_nbformat": 4
 },
 "nbformat": 4,
 "nbformat_minor": 2
}
